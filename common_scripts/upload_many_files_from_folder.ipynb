{
 "cells": [
  {
   "cell_type": "code",
   "execution_count": 19,
   "id": "3b5caea5",
   "metadata": {},
   "outputs": [],
   "source": [
    "import os\n",
    "import requests\n",
    "import pandas as pd  "
   ]
  },
  {
   "cell_type": "code",
   "execution_count": null,
   "id": "a418242d",
   "metadata": {},
   "outputs": [],
   "source": []
  },
  {
   "cell_type": "code",
   "execution_count": 39,
   "id": "ea35c4d0",
   "metadata": {},
   "outputs": [],
   "source": [
    "#let it be folder with files to upload\n",
    "folder = \"C:/Users/Octo/logs_collateral/\""
   ]
  },
  {
   "cell_type": "code",
   "execution_count": 40,
   "id": "7d42dd87",
   "metadata": {},
   "outputs": [
    {
     "name": "stdout",
     "output_type": "stream",
     "text": [
      "['log_20.log', 'log_2011.log']\n"
     ]
    }
   ],
   "source": [
    "#List of files\n",
    "files_list = os.listdir(folder)\n",
    "print(files_list)"
   ]
  },
  {
   "cell_type": "code",
   "execution_count": 41,
   "id": "50019d38",
   "metadata": {},
   "outputs": [],
   "source": [
    "data = []"
   ]
  },
  {
   "cell_type": "code",
   "execution_count": 42,
   "id": "430a7467",
   "metadata": {},
   "outputs": [
    {
     "name": "stderr",
     "output_type": "stream",
     "text": [
      "C:\\Users\\Octo\\anaconda3\\lib\\site-packages\\IPython\\core\\interactiveshell.py:3369: FutureWarning: In a future version of pandas all arguments of read_csv except for the argument 'filepath_or_buffer' will be keyword-only.\n",
      "  exec(code_obj, self.user_global_ns, self.user_ns)\n",
      "C:\\Users\\Octo\\AppData\\Local\\Temp\\ipykernel_11912\\1202528232.py:2: ParserWarning: Falling back to the 'python' engine because the 'c' engine does not support regex separators (separators > 1 char and different from '\\s+' are interpreted as regex); you can avoid this warning by specifying engine='python'.\n",
      "  t1 = pd.read_csv(\"{folder}{name}\".format(folder=folder, name=files), \"rb\")\n",
      "C:\\Users\\Octo\\anaconda3\\lib\\site-packages\\IPython\\core\\interactiveshell.py:3369: FutureWarning: In a future version of pandas all arguments of read_csv except for the argument 'filepath_or_buffer' will be keyword-only.\n",
      "  exec(code_obj, self.user_global_ns, self.user_ns)\n",
      "C:\\Users\\Octo\\AppData\\Local\\Temp\\ipykernel_11912\\1202528232.py:2: ParserWarning: Falling back to the 'python' engine because the 'c' engine does not support regex separators (separators > 1 char and different from '\\s+' are interpreted as regex); you can avoid this warning by specifying engine='python'.\n",
      "  t1 = pd.read_csv(\"{folder}{name}\".format(folder=folder, name=files), \"rb\")\n"
     ]
    }
   ],
   "source": [
    "for files in files_list:\n",
    "    t1 = pd.read_csv(\"{folder}{name}\".format(folder=folder, name=files), \"rb\")\n",
    "    data.append(t1)"
   ]
  },
  {
   "cell_type": "code",
   "execution_count": 43,
   "id": "461c06c8",
   "metadata": {},
   "outputs": [
    {
     "name": "stdout",
     "output_type": "stream",
     "text": [
      "[  2022-05-16, 08:12:50.149, +03:00, [INF], HTTP GET, / responded 404 in 18.9502 ms\n",
      "0  2022-05-16, 08:12:50.411, +03:00, [INF], HTTP ...                              \n",
      "1  2022-05-16, 08:12:50.831, +03:00, [INF], HTTP ...                              \n",
      "2  2022-05-16, 08:12:50.831, +03:00, [INF], HTTP ...                              \n",
      "3  2022-05-16, 08:12:50.832, +03:00, [INF], HTTP ...                              \n",
      "4  2022-05-16, 08:12:50.844, +03:00, [INF], HTTP ...                              \n",
      "5  2022-05-16, 08:12:50.844, +03:00, [INF], HTTP ...                              \n",
      "6  2022-05-16, 08:12:51.118, +03:00, [INF], HTTP ...                              ,   2022-05-16, 08:12:50.149, +03:00, [INF], HTTP GET, / responded 404 in 18.9502 ms\n",
      "0  2022-05-16, 08:12:50.411, +03:00, [INF], HTTP ...                              \n",
      "1  2022-05-16, 08:12:50.831, +03:00, [INF], HTTP ...                              \n",
      "2  2022-05-16, 08:12:50.831, +03:00, [INF], HTTP ...                              \n",
      "3  2022-05-16, 08:12:50.832, +03:00, [INF], HTTP ...                              \n",
      "4  2022-05-16, 08:12:50.844, +03:00, [INF], HTTP ...                              \n",
      "5  2022-05-16, 08:12:50.844, +03:00, [INF], HTTP ...                              \n",
      "6  2022-05-16, 08:12:51.118, +03:00, [INF], HTTP ...                              ]\n"
     ]
    }
   ],
   "source": [
    "print(data)"
   ]
  },
  {
   "cell_type": "code",
   "execution_count": 45,
   "id": "b884a891",
   "metadata": {},
   "outputs": [
    {
     "ename": "AttributeError",
     "evalue": "'list' object has no attribute 'to_csv'",
     "output_type": "error",
     "traceback": [
      "\u001b[1;31m---------------------------------------------------------------------------\u001b[0m",
      "\u001b[1;31mAttributeError\u001b[0m                            Traceback (most recent call last)",
      "Input \u001b[1;32mIn [45]\u001b[0m, in \u001b[0;36m<cell line: 1>\u001b[1;34m()\u001b[0m\n\u001b[1;32m----> 1\u001b[0m \u001b[43mdata\u001b[49m\u001b[38;5;241;43m.\u001b[39;49m\u001b[43mto_csv\u001b[49m(\u001b[38;5;124m\"\u001b[39m\u001b[38;5;124mC:/Users/Octo/logs_collateral/output.csv\u001b[39m\u001b[38;5;124m\"\u001b[39m)\n",
      "\u001b[1;31mAttributeError\u001b[0m: 'list' object has no attribute 'to_csv'"
     ]
    }
   ],
   "source": [
    "data.to_csv(\"C:/Users/Octo/logs_collateral/output.csv\") "
   ]
  },
  {
   "cell_type": "code",
   "execution_count": null,
   "id": "68c967fb",
   "metadata": {},
   "outputs": [],
   "source": []
  },
  {
   "cell_type": "code",
   "execution_count": null,
   "id": "1979aae0",
   "metadata": {},
   "outputs": [],
   "source": []
  }
 ],
 "metadata": {
  "kernelspec": {
   "display_name": "Python 3 (ipykernel)",
   "language": "python",
   "name": "python3"
  },
  "language_info": {
   "codemirror_mode": {
    "name": "ipython",
    "version": 3
   },
   "file_extension": ".py",
   "mimetype": "text/x-python",
   "name": "python",
   "nbconvert_exporter": "python",
   "pygments_lexer": "ipython3",
   "version": "3.9.12"
  }
 },
 "nbformat": 4,
 "nbformat_minor": 5
}
